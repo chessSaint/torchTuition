{
 "cells": [
  {
   "cell_type": "code",
   "execution_count": 1,
   "id": "50849087",
   "metadata": {},
   "outputs": [],
   "source": [
    "import torch\n",
    "import numpy as np"
   ]
  },
  {
   "cell_type": "code",
   "execution_count": 10,
   "id": "425d84bd",
   "metadata": {
    "tags": [
     "索引"
    ]
   },
   "outputs": [
    {
     "name": "stdout",
     "output_type": "stream",
     "text": [
      "torch.Size([4, 3, 28, 28])\n",
      "tensor([[[0.9299, 0.5461, 0.5624,  ..., 0.7351, 0.1001, 0.4572],\n",
      "         [0.6270, 0.1878, 0.5347,  ..., 0.0081, 0.3906, 0.7026],\n",
      "         [0.5907, 0.1304, 0.6404,  ..., 0.1921, 0.2459, 0.4503],\n",
      "         ...,\n",
      "         [0.3599, 0.4308, 0.4100,  ..., 0.9777, 0.0744, 0.5989],\n",
      "         [0.4599, 0.9585, 0.3300,  ..., 0.6833, 0.3023, 0.9542],\n",
      "         [0.2539, 0.8836, 0.9347,  ..., 0.0294, 0.4686, 0.3718]],\n",
      "\n",
      "        [[0.5841, 0.6189, 0.1983,  ..., 0.6680, 0.4102, 0.4493],\n",
      "         [0.7472, 0.2380, 0.5879,  ..., 0.1348, 0.5814, 0.5411],\n",
      "         [0.5143, 0.9561, 0.1302,  ..., 0.9910, 0.2828, 0.7035],\n",
      "         ...,\n",
      "         [0.9193, 0.8291, 0.8652,  ..., 0.3778, 0.4943, 0.5220],\n",
      "         [0.6090, 0.0687, 0.5255,  ..., 0.5858, 0.8568, 0.5646],\n",
      "         [0.4896, 0.0249, 0.0777,  ..., 0.6405, 0.9888, 0.6890]],\n",
      "\n",
      "        [[0.9253, 0.3870, 0.7435,  ..., 0.4882, 0.4457, 0.7552],\n",
      "         [0.9111, 0.1799, 0.0507,  ..., 0.1894, 0.0404, 0.0401],\n",
      "         [0.8214, 0.0540, 0.8789,  ..., 0.6131, 0.3457, 0.1203],\n",
      "         ...,\n",
      "         [0.5586, 0.3341, 0.7243,  ..., 0.8501, 0.2919, 0.9956],\n",
      "         [0.2898, 0.7928, 0.6655,  ..., 0.3646, 0.7561, 0.7284],\n",
      "         [0.5889, 0.9090, 0.4464,  ..., 0.9684, 0.8910, 0.7686]]])\n",
      "torch.Size([28, 28])\n",
      "torch.Size([28, 28])\n",
      "tensor([0.9299, 0.5461, 0.5624, 0.9375, 0.7369, 0.3799, 0.9802, 0.3423, 0.0728,\n",
      "        0.7817, 0.5440, 0.5155, 0.4194, 0.7699, 0.5685, 0.5725, 0.1961, 0.2551,\n",
      "        0.0599, 0.6333, 0.9834, 0.3641, 0.9792, 0.8997, 0.9793, 0.7351, 0.1001,\n",
      "        0.4572])\n",
      "tensor(0.9299)\n"
     ]
    }
   ],
   "source": [
    "# 场景为：创建4张图片，每张图片3通道，height = 28 width=28\n",
    "a = torch.rand(4, 3, 28, 28)  # 4维的数据，从左到右维度编号为 0 1 2 3\n",
    "print(a.shape)\n",
    "\n",
    "# 索引的方式为从左至右进行的，符合人的逻辑习惯\n",
    "print(a[0])  # 返回第一张图片，shape为(3, 28, 28)\n",
    "print(a[0, 0].shape)  # 返回第一张图片的第一个通道\n",
    "print(a[0][0].shape)  # 同上\n",
    "\n",
    "print(a[0, 0, 0])  # 返回第一张图片的第一个通道的第1行数据\n",
    "print(a[0, 0, 0, 0])  # 返回第一张图片的第一个通道的第一行数据的第一个像素，是一个标量"
   ]
  },
  {
   "cell_type": "code",
   "execution_count": 26,
   "id": "e82ee709",
   "metadata": {
    "tags": [
     "高级索引方式"
    ]
   },
   "outputs": [
    {
     "name": "stdout",
     "output_type": "stream",
     "text": [
      "torch.Size([4, 3, 6, 6])\n",
      "torch.Size([2, 3, 6, 6])\n",
      "torch.Size([2, 1, 6, 6])\n",
      "torch.Size([2, 2, 6, 6])\n",
      "torch.Size([2, 1, 6, 6])\n",
      "torch.Size([2, 3, 3, 3])\n",
      "torch.Size([2, 3, 6, 6])\n",
      "torch.Size([4, 2, 6, 6])\n",
      "torch.Size([4, 3, 6, 6])\n",
      "torch.Size([4, 3, 4, 6])\n"
     ]
    }
   ],
   "source": [
    "a = torch.rand(4, 3, 6, 6)\n",
    "print(a.shape)\n",
    "\n",
    "b = a[:2]  # 读取前两张图片，冒号可以理解为箭头，默认从0开始，遵循左闭右开原则。如果冒号两边不写数字，则表示读取全部\n",
    "print(b.shape)\n",
    "\n",
    "c = a[:2, :1]  # 等同于a[:2, :1, :, :]，读取前两张图片的第一个通道的数据\n",
    "print(c.shape)\n",
    "\n",
    "d = a[:2, 1:]  # 读取前两张图片的后两个通道的数据\n",
    "print(d.shape)\n",
    "\n",
    "e = a[:2, -1:]  # 读取前两张图片的最后一个通道的数据\n",
    "print(e.shape)\n",
    "\n",
    "# 隔行采样\n",
    "f = a[:2, : , ::2, ::2]  # 表示对前两张图片的所有通道的height width进行隔行采样\n",
    "print(f.shape)\n",
    "\n",
    "# select by specific index，指定某一维度按规则读取，其他维度不变\n",
    "g = a.index_select(0,torch.tensor([0, 2]))  # 读取第一张和第三张图片，第二个参数必须是一个tensor\n",
    "print(g.shape)\n",
    "\n",
    "h = a.index_select(1, torch.tensor([0, 1]))  # 读取所有图片的第1 2通道\n",
    "print(h.shape)\n",
    "\n",
    "i = a.index_select(2, torch.arange(6))  # 读取第二维度从0 1 2 3 4 5的数据\n",
    "print(i.shape)\n",
    "\n",
    "j = a.index_select(2, torch.arange(4))  # 读取第二维度从0 1 2 3的数据\n",
    "print(j.shape)"
   ]
  },
  {
   "cell_type": "code",
   "execution_count": 2,
   "id": "48d6316f",
   "metadata": {
    "tags": [
     "高级索引方式"
    ]
   },
   "outputs": [
    {
     "name": "stdout",
     "output_type": "stream",
     "text": [
      "torch.Size([4, 3, 28, 28])\n",
      "torch.Size([4, 3, 28, 28])\n",
      "torch.Size([3, 28, 28])\n",
      "torch.Size([4, 28, 28])\n",
      "torch.Size([4, 3, 28, 2])\n"
     ]
    }
   ],
   "source": [
    "# 当 : 冒号很多时，写着就很麻烦，所以又有另一种方式来简写 ... 三个点来简写\n",
    "# ... 根据张量的维度自动推测所代替的部分\n",
    "\n",
    "a = torch.rand(4, 3, 28, 28)\n",
    "print(a.shape)\n",
    "\n",
    "b = a[...]\n",
    "print(b.shape)\n",
    "\n",
    "c = a[0, ...]\n",
    "print(c.shape)\n",
    "\n",
    "d = a[:, 1, ...]\n",
    "print(d.shape)\n",
    "\n",
    "e = a[..., :2]\n",
    "print(e.shape)"
   ]
  },
  {
   "cell_type": "code",
   "execution_count": 3,
   "id": "cd2918b3",
   "metadata": {},
   "outputs": [
    {
     "name": "stdout",
     "output_type": "stream",
     "text": [
      "tensor([[0.6543, 0.2668, 0.6879, 0.6045],\n",
      "        [0.1664, 0.6047, 0.8094, 0.1549],\n",
      "        [0.7155, 0.2835, 0.3186, 0.9855]])\n",
      "tensor([[ True, False,  True,  True],\n",
      "        [False,  True,  True, False],\n",
      "        [ True, False, False,  True]])\n",
      "tensor([0.6543, 0.6879, 0.6045, 0.6047, 0.8094, 0.7155, 0.9855])\n"
     ]
    }
   ],
   "source": [
    "# select by mask\n",
    "# 用的比较少\n",
    "x = torch.rand(3, 4)\n",
    "print(x)\n",
    "\n",
    "mask = x.ge(0.5)\n",
    "print(mask)\n",
    "\n",
    "a = torch.masked_select(x, mask)\n",
    "print(a)"
   ]
  },
  {
   "cell_type": "code",
   "execution_count": null,
   "id": "74053184",
   "metadata": {},
   "outputs": [],
   "source": []
  }
 ],
 "metadata": {
  "celltoolbar": "Tags",
  "kernelspec": {
   "display_name": "learning_pgpu",
   "language": "python",
   "name": "learning_pgpu"
  },
  "language_info": {
   "codemirror_mode": {
    "name": "ipython",
    "version": 3
   },
   "file_extension": ".py",
   "mimetype": "text/x-python",
   "name": "python",
   "nbconvert_exporter": "python",
   "pygments_lexer": "ipython3",
   "version": "3.8.15"
  }
 },
 "nbformat": 4,
 "nbformat_minor": 5
}
