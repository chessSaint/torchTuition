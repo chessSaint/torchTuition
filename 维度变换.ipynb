{
 "cells": [
  {
   "cell_type": "code",
   "execution_count": 1,
   "id": "ba75abdc",
   "metadata": {},
   "outputs": [],
   "source": [
    "import torch"
   ]
  },
  {
   "cell_type": "code",
   "execution_count": 7,
   "id": "ec0cdf7f",
   "metadata": {},
   "outputs": [
    {
     "name": "stdout",
     "output_type": "stream",
     "text": [
      "torch.Size([4, 1, 28, 28])\n",
      "torch.Size([4, 784])\n",
      "torch.Size([4, 1, 28, 28])\n"
     ]
    }
   ],
   "source": [
    "# 变换1： 使用view reshape API\n",
    "# view reshape使用上是一样的，且不改变原始数据\n",
    "# 逻辑上可以使用上述API对数据做任意形状的变换，只要满足相乘后的维度一致就可以\n",
    "# 实际使用中变换其实是要符合物理意义的\n",
    "a = torch.rand(4, 1, 28, 28)\n",
    "print(a.shape)\n",
    "\n",
    "b = a.view(4, 28 * 28)  # b = a.view(4 * 28, 28)  b = a.view(4 * 1, 28, 28) ...\n",
    "# b = a.reshape(4, 28 * 28)\n",
    "print(b.shape)\n",
    "print(a.shape)"
   ]
  },
  {
   "cell_type": "code",
   "execution_count": null,
   "id": "7f6c2f55",
   "metadata": {},
   "outputs": [],
   "source": []
  }
 ],
 "metadata": {
  "celltoolbar": "Tags",
  "kernelspec": {
   "display_name": "learning_pgpu",
   "language": "python",
   "name": "learning_pgpu"
  },
  "language_info": {
   "codemirror_mode": {
    "name": "ipython",
    "version": 3
   },
   "file_extension": ".py",
   "mimetype": "text/x-python",
   "name": "python",
   "nbconvert_exporter": "python",
   "pygments_lexer": "ipython3",
   "version": "3.8.15"
  }
 },
 "nbformat": 4,
 "nbformat_minor": 5
}
