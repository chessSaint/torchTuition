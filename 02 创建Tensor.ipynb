{
 "cells": [
  {
   "cell_type": "code",
   "execution_count": 1,
   "id": "52d4b944",
   "metadata": {
    "tags": [
     "导入包库"
    ]
   },
   "outputs": [],
   "source": [
    "import torch\n",
    "import numpy as np\n",
    "import torch.nn.functional as F"
   ]
  },
  {
   "cell_type": "code",
   "execution_count": 3,
   "id": "1e676ab5",
   "metadata": {},
   "outputs": [
    {
     "name": "stdout",
     "output_type": "stream",
     "text": [
      "[2.  3.3]\n",
      "tensor([2.0000, 3.3000], dtype=torch.float64)\n",
      "[[1. 1. 1.]\n",
      " [1. 1. 1.]]\n",
      "tensor([[1., 1., 1.],\n",
      "        [1., 1., 1.]], dtype=torch.float64)\n"
     ]
    }
   ],
   "source": [
    "# 方法1：import from numpy，numpy中数据类型是什么，导入后对应的数据类型也一样，只是加了torch\n",
    "# 这种方式不会改变原来numpy的数据\n",
    "a = np.array([2, 3.3])\n",
    "b = torch.from_numpy(a)\n",
    "\n",
    "print(a)\n",
    "print(b)\n",
    "\n",
    "a = np.ones([2, 3])\n",
    "b = torch.from_numpy(a)\n",
    "\n",
    "print(a)\n",
    "print(b)"
   ]
  },
  {
   "cell_type": "code",
   "execution_count": 7,
   "id": "8e04f0f2",
   "metadata": {},
   "outputs": [
    {
     "name": "stdout",
     "output_type": "stream",
     "text": [
      "tensor([2.0000, 3.2000])\n",
      "tensor([2.0000, 3.2000])\n",
      "tensor([[2.0000, 3.2000],\n",
      "        [1.0000, 4.2000]])\n",
      "tensor([[8.1379e-26, 4.5867e-41, 2.8209e-35],\n",
      "        [0.0000e+00, 4.4842e-44, 0.0000e+00]])\n"
     ]
    }
   ],
   "source": [
    "# 方法2：import from list\n",
    "# 一点建议：具体的小数据用a方式，暂时不明确的数据用这种方式\n",
    "\n",
    "# 注意辨析，这个小写的api接收的是具体的数据，大写的torch.Tensor()接收的是数据的维度\n",
    "a = torch.tensor([2., 3.2])\n",
    "\n",
    "b = torch.FloatTensor([2., 3.2]) \n",
    "\n",
    "c = torch.tensor([[2., 3.2], [1., 4.2]])\n",
    "\n",
    "print(a)\n",
    "print(b)\n",
    "print(c)\n",
    "\n",
    "d = torch.Tensor(2, 3)  # torch.FloatTensor(r, c)\n",
    "print(d)"
   ]
  },
  {
   "cell_type": "code",
   "execution_count": 8,
   "id": "8a8890d6",
   "metadata": {},
   "outputs": [],
   "source": [
    "# 方法3：创建指定维度的空张量作为载体\n",
    "# 创建未初始化的数据，这种方式创建的数据一定要赋值后才可以使用\n",
    "# 1. torch.empty(d1, d2, d3)\n",
    "# 2. torch.FloatTensor(d1, d2, d3)\n",
    "# 3. torch.IntTensor(d1, d2, d3)"
   ]
  },
  {
   "cell_type": "code",
   "execution_count": 9,
   "id": "e89cb0d7",
   "metadata": {},
   "outputs": [],
   "source": [
    "# 设置torch默认类型\n",
    "# torch默认类型为torch.FloatTensor\n",
    "# 可以使用torch.set_default_tensor_type(torch.DoubleTensor)改变默认数据类型"
   ]
  },
  {
   "cell_type": "code",
   "execution_count": 10,
   "id": "cc7d29ee",
   "metadata": {},
   "outputs": [
    {
     "name": "stdout",
     "output_type": "stream",
     "text": [
      "tensor([[0.1681, 0.8865, 0.2597],\n",
      "        [0.6423, 0.6844, 0.3210],\n",
      "        [0.1603, 0.1387, 0.9617]])\n",
      "tensor([[0.4585, 0.0234, 0.1930],\n",
      "        [0.7693, 0.5786, 0.7558],\n",
      "        [0.2174, 0.2154, 0.6182]])\n",
      "tensor([[8, 6, 2, 8],\n",
      "        [5, 6, 8, 8],\n",
      "        [7, 3, 8, 9]])\n"
     ]
    }
   ],
   "source": [
    "# 方法4：使用一些分布来创建张量\n",
    "# 包括rand randn randint *_like等\n",
    "a = torch.rand(3,3)  # 在[0, 1]之间服从均匀分布生成数据\n",
    "print(a)\n",
    "\n",
    "b = torch.rand_like(a)  # 读取a.shape，然后按照这个来创建张量\n",
    "print(b)\n",
    "\n",
    "c = torch.randint(1, 10, [3, 4])  # 在[min, max)之间均匀分布生成数据\n",
    "print(c) "
   ]
  },
  {
   "cell_type": "code",
   "execution_count": 12,
   "id": "1d217d96",
   "metadata": {},
   "outputs": [
    {
     "name": "stdout",
     "output_type": "stream",
     "text": [
      "tensor([[7, 7, 7],\n",
      "        [7, 7, 7]])\n"
     ]
    }
   ],
   "source": [
    "# 方法5：使用torch.full() - 生成指定形状，值全部一样的张量\n",
    "a = torch.full([2, 3], 7)\n",
    "print(a) "
   ]
  },
  {
   "cell_type": "code",
   "execution_count": 13,
   "id": "059a60de",
   "metadata": {},
   "outputs": [
    {
     "data": {
      "text/plain": [
       "tensor([0, 1, 2, 3, 4, 5, 6, 7, 8, 9])"
      ]
     },
     "execution_count": 13,
     "metadata": {},
     "output_type": "execute_result"
    }
   ],
   "source": [
    "# 方法6：使用torch.arange(start, end, 间隔)\n",
    "torch.arange(0, 10)"
   ]
  },
  {
   "cell_type": "code",
   "execution_count": 16,
   "id": "a6b6f224",
   "metadata": {},
   "outputs": [
    {
     "name": "stdout",
     "output_type": "stream",
     "text": [
      "tensor([ 0.0000, -0.1111, -0.2222, -0.3333, -0.4444, -0.5556, -0.6667, -0.7778,\n",
      "        -0.8889, -1.0000])\n",
      "tensor([1.0000, 0.7743, 0.5995, 0.4642, 0.3594, 0.2783, 0.2154, 0.1668, 0.1292,\n",
      "        0.1000])\n"
     ]
    }
   ],
   "source": [
    "# 方法7：使用torch.linspace logspace 等\n",
    "# 给定[start, end, steps]来生成数据，steps表示生成数据的个数，start end的值都可取\n",
    "a = torch.linspace(0, -1, steps=10)\n",
    "print(a)\n",
    "\n",
    "b = torch.logspace(0, -1, steps=10)  # 对数据先按照torch.linspace()生成，然后取10的多少次方\n",
    "print(b)"
   ]
  },
  {
   "cell_type": "code",
   "execution_count": 19,
   "id": "35f1a8c9",
   "metadata": {},
   "outputs": [
    {
     "data": {
      "text/plain": [
       "tensor([[1., 0., 0.],\n",
       "        [0., 1., 0.]])"
      ]
     },
     "execution_count": 19,
     "metadata": {},
     "output_type": "execute_result"
    }
   ],
   "source": [
    "# 方法8：生成全为0、全为1，eye\n",
    "# torch.ones(shape) torch.zeros(shape) torch.eye(shape)\n",
    "torch.eye(2, 3)"
   ]
  },
  {
   "cell_type": "code",
   "execution_count": 21,
   "id": "1b6a34d5",
   "metadata": {},
   "outputs": [
    {
     "name": "stdout",
     "output_type": "stream",
     "text": [
      "tensor([6, 3, 5, 7, 0, 9, 2, 1, 8, 4]) 10\n"
     ]
    }
   ],
   "source": [
    "# 方法9：torch.randperm()\n",
    "# 使用场景：比如一个班的成绩包含语文、英文、数学，现在把人名、成绩shuffle了，\n",
    "# 那么访问每个人的信息时也要注意索引一致，这样学习到的特征才是有效的\n",
    "a = torch.randperm(10)  # [0, 10)\n",
    "print(a, len(a))"
   ]
  },
  {
   "cell_type": "code",
   "execution_count": null,
   "id": "b911bdd9",
   "metadata": {},
   "outputs": [],
   "source": []
  }
 ],
 "metadata": {
  "celltoolbar": "Tags",
  "kernelspec": {
   "display_name": "learning_pgpu",
   "language": "python",
   "name": "learning_pgpu"
  },
  "language_info": {
   "codemirror_mode": {
    "name": "ipython",
    "version": 3
   },
   "file_extension": ".py",
   "mimetype": "text/x-python",
   "name": "python",
   "nbconvert_exporter": "python",
   "pygments_lexer": "ipython3",
   "version": "3.8.15"
  }
 },
 "nbformat": 4,
 "nbformat_minor": 5
}
