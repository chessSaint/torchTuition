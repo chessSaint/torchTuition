{
 "cells": [
  {
   "cell_type": "code",
   "execution_count": 1,
   "id": "ba75abdc",
   "metadata": {},
   "outputs": [],
   "source": [
    "import torch"
   ]
  },
  {
   "cell_type": "code",
   "execution_count": 7,
   "id": "ec0cdf7f",
   "metadata": {},
   "outputs": [
    {
     "name": "stdout",
     "output_type": "stream",
     "text": [
      "torch.Size([4, 1, 28, 28])\n",
      "torch.Size([4, 784])\n",
      "torch.Size([4, 1, 28, 28])\n"
     ]
    }
   ],
   "source": [
    "# 变换1：使用view reshape API\n",
    "# view reshape使用上是一样的，且不改变原始数据\n",
    "# 逻辑上可以使用上述API对数据做任意形状的变换，只要满足相乘后的维度一致就可以\n",
    "# 实际使用中变换其实是要符合物理意义的\n",
    "a = torch.rand(4, 1, 28, 28)\n",
    "print(a.shape)\n",
    "\n",
    "b = a.view(4, 28 * 28)  # b = a.view(4 * 28, 28)  b = a.view(4 * 1, 28, 28) ...\n",
    "# b = a.reshape(4, 28 * 28)\n",
    "print(b.shape)\n",
    "print(a.shape)"
   ]
  },
  {
   "cell_type": "code",
   "execution_count": 10,
   "id": "7f6c2f55",
   "metadata": {},
   "outputs": [
    {
     "name": "stdout",
     "output_type": "stream",
     "text": [
      "torch.Size([4, 1, 28, 28])\n",
      "torch.Size([1, 4, 1, 28, 28])\n",
      "torch.Size([4, 1, 28, 28, 1])\n",
      "torch.Size([4, 1, 28, 28, 1])\n"
     ]
    }
   ],
   "source": [
    "# 变换2：使用unsqueeze squeeze API\n",
    "# 对数据进行扩维或降维操作，可以根据自己的需要引入一些新的概念来管理数据\n",
    "# 数据本身存储不变，只是数据的理解方式变了\n",
    "\n",
    "a = torch.rand(4, 1, 28, 28)\n",
    "print(a.shape)\n",
    "\n",
    "b = a.unsqueeze(0)  # 在原来的第一维之前扩维，这个的物理意义可以理解为对一个batch_size的图片引入组的概念\n",
    "print(b.shape)\n",
    "\n",
    "c = a.unsqueeze(-1)  # 在原来的最后一维之后扩维\n",
    "print(c.shape)\n",
    "\n",
    "d = c = a.unsqueeze(4)  # 在原来的第4维之前扩维，含义等同于a.unsqueeze(-1)\n",
    "print(d.shape)\n",
    "\n",
    "## 总结\n",
    "\"\"\"\n",
    "  以上述例子为基础展开\n",
    "      a.unsqueeze(dim)  dim取值范围 [-a.dim() - 1, a.dim() + 1) 超出这个范围会报错\n",
    "      a.dim = 0 1 2 3\n",
    "      扩维规则：\n",
    "          - 非负数在dim之前扩维\n",
    "          - 负数在dim之后扩维\n",
    "\"\"\""
   ]
  },
  {
   "cell_type": "code",
   "execution_count": 15,
   "id": "cc76760e",
   "metadata": {},
   "outputs": [
    {
     "name": "stdout",
     "output_type": "stream",
     "text": [
      "tensor([1.2000, 2.3000])\n",
      "torch.Size([2])\n",
      "tensor([[1.2000],\n",
      "        [2.3000]])\n",
      "torch.Size([2, 1])\n",
      "tensor([[1.2000, 2.3000]])\n",
      "torch.Size([1, 2])\n"
     ]
    }
   ],
   "source": [
    "# 变换2：unsqueeze API的例子\n",
    "a = torch.tensor([1.2, 2.3])\n",
    "print(a)\n",
    "print(a.shape)\n",
    "\n",
    "print(a.unsqueeze(-1))\n",
    "print(a.unsqueeze(-1).shape)\n",
    "\n",
    "print(a.unsqueeze(0))\n",
    "print(a.unsqueeze(0).shape)"
   ]
  },
  {
   "cell_type": "code",
   "execution_count": 20,
   "id": "3034b851",
   "metadata": {},
   "outputs": [
    {
     "name": "stdout",
     "output_type": "stream",
     "text": [
      "torch.Size([32, 2])\n",
      "torch.Size([32, 2, 1])\n",
      "torch.Size([1, 32, 2, 1])\n"
     ]
    }
   ],
   "source": [
    "# 变换2：squeeze API\n",
    "a = torch.rand(1, 32, 2, 1)\n",
    "\n",
    "b = a.squeeze()  # 不给参数，把能挤压的全部挤压，即维度为1的全部被挤压\n",
    "print(b.shape)\n",
    "\n",
    "c = a.squeeze(0)  # 把第一维挤压掉\n",
    "print(c.shape)\n",
    "\n",
    "d = a.squeeze(1)  # 维度不是1的不能被挤压掉\n",
    "print(d.shape)"
   ]
  },
  {
   "cell_type": "code",
   "execution_count": 6,
   "id": "0fc07e6d",
   "metadata": {},
   "outputs": [
    {
     "name": "stdout",
     "output_type": "stream",
     "text": [
      "torch.Size([1, 32, 1, 1])\n",
      "torch.Size([4, 32, 14, 14])\n",
      "torch.Size([1, 32, 1, 1])\n"
     ]
    }
   ],
   "source": [
    "# 变换3：expand repeat API 不会改变原来的张量\n",
    "# 对维度进行扩展，与变换2不同，它不改变数据的维度，而是改变维度上的值\n",
    "# expand: broadcasting，不会主动复制数据，只在有需要的时候复制，推荐使用\n",
    "# repeat: memory copied 实实在在复制了数据，参数表示的是复制的次数\n",
    "a = torch.rand(4, 32, 14, 14)\n",
    "b = torch.rand(1, 32, 1, 1)\n",
    "\n",
    "c = b.expand(4, 32, 14, 14)  # 实现的是某一维度从1 -> M，但是不能实现某一维度从 M -> N\n",
    "print(b.shape)\n",
    "print(c.shape)\n",
    "\n",
    "d = b.expand(-1, 32, -1, -1)  # 使用 -1 来代替其他维度的值，因为有时候这个值是计算出来的\n",
    "print(d.shape)"
   ]
  },
  {
   "cell_type": "code",
   "execution_count": 5,
   "id": "a115a890",
   "metadata": {},
   "outputs": [
    {
     "name": "stdout",
     "output_type": "stream",
     "text": [
      "a.shape torch.Size([4, 32, 14, 14])\n",
      "a.shape torch.Size([4, 32, 14, 14])\n",
      "b.shape torch.Size([16, 1024, 14, 14])\n",
      "a.shape torch.Size([4, 32, 14, 14])\n",
      "c,shape torch.Size([12, 64, 28, 28])\n"
     ]
    }
   ],
   "source": [
    "a = torch.rand(4, 32, 14, 14)\n",
    "print(\"a.shape\", a.shape)\n",
    "\n",
    "b = a.repeat(4, 32, 1, 1)\n",
    "print(\"a.shape\", a.shape)\n",
    "print(\"b.shape\", b.shape)\n",
    "\n",
    "c = a.repeat(3, 2, 2, 2)\n",
    "print(\"a.shape\", a.shape)\n",
    "print(\"c,shape\", c.shape)"
   ]
  },
  {
   "cell_type": "code",
   "execution_count": 9,
   "id": "82f81f1f",
   "metadata": {},
   "outputs": [
    {
     "name": "stdout",
     "output_type": "stream",
     "text": [
      "a.shape torch.Size([4, 3])\n",
      "b.shape torch.Size([3, 4])\n",
      "a.shape torch.Size([4, 3])\n"
     ]
    }
   ],
   "source": [
    "# 变换4：二维张量转置操作 使用.t()方法，只适用于二维张量。 不改变原张量\n",
    "a = torch.rand(4, 3)\n",
    "print(\"a.shape\", a.shape)\n",
    "\n",
    "b = a.t()\n",
    "print(\"b.shape\", b.shape)\n",
    "print(\"a.shape\", a.shape)"
   ]
  },
  {
   "cell_type": "code",
   "execution_count": 16,
   "id": "73abf145",
   "metadata": {},
   "outputs": [
    {
     "name": "stdout",
     "output_type": "stream",
     "text": [
      "a.shape torch.Size([4, 3, 32, 32])\n",
      "b.shape torch.Size([4, 32, 32, 3])\n",
      "c,shape torch.Size([4, 3072])\n"
     ]
    },
    {
     "ename": "TypeError",
     "evalue": "transpose() received an invalid combination of arguments - got (int, int, int, int), but expected one of:\n * (int dim0, int dim1)\n * (name dim0, name dim1)\n",
     "output_type": "error",
     "traceback": [
      "\u001b[0;31m---------------------------------------------------------------------------\u001b[0m",
      "\u001b[0;31mTypeError\u001b[0m                                 Traceback (most recent call last)",
      "Cell \u001b[0;32mIn [16], line 17\u001b[0m\n\u001b[1;32m     15\u001b[0m \u001b[38;5;66;03m# transpose变换后的数据复原\u001b[39;00m\n\u001b[1;32m     16\u001b[0m a1 \u001b[38;5;241m=\u001b[39m a\u001b[38;5;241m.\u001b[39mtranspose(\u001b[38;5;241m1\u001b[39m, \u001b[38;5;241m3\u001b[39m)\u001b[38;5;241m.\u001b[39mcontiguous()\u001b[38;5;241m.\u001b[39mview(\u001b[38;5;241m4\u001b[39m, \u001b[38;5;241m3\u001b[39m \u001b[38;5;241m*\u001b[39m \u001b[38;5;241m32\u001b[39m \u001b[38;5;241m*\u001b[39m\u001b[38;5;241m32\u001b[39m)\u001b[38;5;241m.\u001b[39mview(\u001b[38;5;241m4\u001b[39m, \u001b[38;5;241m3\u001b[39m, \u001b[38;5;241m32\u001b[39m, \u001b[38;5;241m32\u001b[39m)\n\u001b[0;32m---> 17\u001b[0m a2 \u001b[38;5;241m=\u001b[39m \u001b[43ma\u001b[49m\u001b[38;5;241;43m.\u001b[39;49m\u001b[43mtranspose\u001b[49m\u001b[43m(\u001b[49m\u001b[38;5;241;43m1\u001b[39;49m\u001b[43m,\u001b[49m\u001b[43m \u001b[49m\u001b[38;5;241;43m3\u001b[39;49m\u001b[43m)\u001b[49m\u001b[38;5;241;43m.\u001b[39;49m\u001b[43mcontiguous\u001b[49m\u001b[43m(\u001b[49m\u001b[43m)\u001b[49m\u001b[38;5;241;43m.\u001b[39;49m\u001b[43mview\u001b[49m\u001b[43m(\u001b[49m\u001b[38;5;241;43m4\u001b[39;49m\u001b[43m,\u001b[49m\u001b[43m \u001b[49m\u001b[38;5;241;43m3\u001b[39;49m\u001b[43m \u001b[49m\u001b[38;5;241;43m*\u001b[39;49m\u001b[43m \u001b[49m\u001b[38;5;241;43m32\u001b[39;49m\u001b[43m \u001b[49m\u001b[38;5;241;43m*\u001b[39;49m\u001b[38;5;241;43m32\u001b[39;49m\u001b[43m)\u001b[49m\u001b[38;5;241;43m.\u001b[39;49m\u001b[43mview\u001b[49m\u001b[43m(\u001b[49m\u001b[38;5;241;43m4\u001b[39;49m\u001b[43m,\u001b[49m\u001b[43m \u001b[49m\u001b[38;5;241;43m32\u001b[39;49m\u001b[43m,\u001b[49m\u001b[43m \u001b[49m\u001b[38;5;241;43m32\u001b[39;49m\u001b[43m,\u001b[49m\u001b[43m \u001b[49m\u001b[38;5;241;43m3\u001b[39;49m\u001b[43m)\u001b[49m\u001b[38;5;241;43m.\u001b[39;49m\u001b[43mtranspose\u001b[49m\u001b[43m(\u001b[49m\u001b[38;5;241;43m4\u001b[39;49m\u001b[43m,\u001b[49m\u001b[43m \u001b[49m\u001b[38;5;241;43m3\u001b[39;49m\u001b[43m,\u001b[49m\u001b[43m \u001b[49m\u001b[38;5;241;43m32\u001b[39;49m\u001b[43m,\u001b[49m\u001b[43m \u001b[49m\u001b[38;5;241;43m32\u001b[39;49m\u001b[43m)\u001b[49m\n\u001b[1;32m     19\u001b[0m \u001b[38;5;28mprint\u001b[39m(torch\u001b[38;5;241m.\u001b[39mall(torch\u001b[38;5;241m.\u001b[39meq(a, a1)))\n\u001b[1;32m     20\u001b[0m \u001b[38;5;28mprint\u001b[39m(torch\u001b[38;5;241m.\u001b[39mall(torch\u001b[38;5;241m.\u001b[39meq(a, a2)))\n",
      "\u001b[0;31mTypeError\u001b[0m: transpose() received an invalid combination of arguments - got (int, int, int, int), but expected one of:\n * (int dim0, int dim1)\n * (name dim0, name dim1)\n"
     ]
    }
   ],
   "source": [
    "# 变换5：使用transpose() API 交换维度\n",
    "a = torch.rand(4, 3, 32, 32)\n",
    "print(\"a.shape\", a.shape)\n",
    "\n",
    "b = a.transpose(1, 3)\n",
    "print(\"b.shape\", b.shape)\n",
    "\n",
    "# .transpose()将数据的存储方式打乱了，数据不连续了，因此转置后的数据不能直接view变换\n",
    "# c = b.view(4, 3 * 32 * 32)\n",
    "# print(\"c,shape\", c.shape)\n",
    " # 解决方案：使用 .contiguous()方法将数据变为连续存储\n",
    "c = b.contiguous().view(4, 3 * 32 * 32)\n",
    "print(\"c,shape\", c.shape)\n",
    "\n",
    "# transpose变换后的数据复原\n",
    "a1 = a.transpose(1, 3).contiguous().view(4, 3 * 32 *32).view(4, 3, 32, 32)\n",
    "a2 = a.transpose(1, 3).contiguous().view(4, 3 * 32 *32).view(4, 32, 32, 3).transpose(4, 3, 32, 32)\n",
    "\n",
    "print(torch.all(torch.eq(a, a1)))\n",
    "print(torch.all(torch.eq(a, a2))) "
   ]
  },
  {
   "cell_type": "code",
   "execution_count": null,
   "id": "6f26257d",
   "metadata": {},
   "outputs": [],
   "source": [
    "# 变换5：.permute() API"
   ]
  }
 ],
 "metadata": {
  "celltoolbar": "Tags",
  "kernelspec": {
   "display_name": "learning_pgpu",
   "language": "python",
   "name": "learning_pgpu"
  },
  "language_info": {
   "codemirror_mode": {
    "name": "ipython",
    "version": 3
   },
   "file_extension": ".py",
   "mimetype": "text/x-python",
   "name": "python",
   "nbconvert_exporter": "python",
   "pygments_lexer": "ipython3",
   "version": "3.8.15"
  }
 },
 "nbformat": 4,
 "nbformat_minor": 5
}
