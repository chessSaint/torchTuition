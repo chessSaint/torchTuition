{
 "cells": [
  {
   "cell_type": "code",
   "execution_count": 2,
   "id": "29607fbf",
   "metadata": {
    "tags": [
     "导入包库"
    ]
   },
   "outputs": [],
   "source": [
    "import torch\n",
    "import numpy as np\n",
    "import torch.nn.functional as F"
   ]
  },
  {
   "cell_type": "code",
   "execution_count": 4,
   "id": "83f7dbb8",
   "metadata": {
    "tags": [
     "类型判断"
    ]
   },
   "outputs": [
    {
     "name": "stdout",
     "output_type": "stream",
     "text": [
      "tensor([[ 0.0152,  0.6306, -1.4532],\n",
      "        [-0.0300,  0.5119,  2.4869]])\n",
      "torch.FloatTensor\n",
      "<class 'torch.Tensor'>\n",
      "True\n"
     ]
    }
   ],
   "source": [
    "a = torch.randn(2, 3)\n",
    "print(a)\n",
    "\n",
    "# 方式1：打印出具体类型，在类型未知的时候测试使用\n",
    "print(a.type())\n",
    "\n",
    "# 方式2：打印出基本数据类型，用的比较少\n",
    "print(type(a))\n",
    "\n",
    "# 方法3：可以在代码里面使用，可以在运行时判断\n",
    "print(isinstance(a, torch.FloatTensor))"
   ]
  },
  {
   "cell_type": "code",
   "execution_count": 3,
   "id": "d44e4252",
   "metadata": {
    "tags": [
     "dim=0的标量"
    ]
   },
   "outputs": [
    {
     "name": "stdout",
     "output_type": "stream",
     "text": [
      "tensor(2.2000)\n",
      "torch.Size([])\n",
      "torch.Size([])\n",
      "0\n",
      "0\n"
     ]
    }
   ],
   "source": [
    "# 标量是维度为0的一种数据，常用于loss的计算\n",
    "a = torch.tensor(2.2)\n",
    "print(a)\n",
    "\n",
    "print(a.shape)  # torch.Size([])\n",
    "print(a.size())  # torch.Size([])\n",
    "print(len(a.shape))  # 0\n",
    "print(a.dim())"
   ]
  },
  {
   "cell_type": "code",
   "execution_count": 7,
   "id": "e12df006",
   "metadata": {
    "tags": [
     "dim=1的张量"
    ]
   },
   "outputs": [
    {
     "name": "stdout",
     "output_type": "stream",
     "text": [
      "tensor([1.1000])\n",
      "tensor([1.1000, 2.2000])\n",
      "tensor([1.0005e-35])\n",
      "tensor([1., 1.], dtype=torch.float64)\n"
     ]
    }
   ],
   "source": [
    "# 数学上的向量在torch里面对应为dim=1的张量，常用于bias、线性输入（例如minist输入 ）\n",
    "\n",
    "# 创建方法\n",
    "# 方法1\n",
    "a = torch.tensor([1.1])  # 注意与标量的区别，多了个方括号\n",
    "print(a)\n",
    "\n",
    "b = torch.tensor([1.1, 2.2])\n",
    "print(b)\n",
    "\n",
    "# 方法2\n",
    "c = torch.FloatTensor(1)  # 创建dim=1，size=1的张量，数据随即初始化\n",
    "print(c)\n",
    "\n",
    "d = torch.FloatTensor(2)  # 创建dim=1，size=2的张量，数据随即初始化\n",
    "\n",
    "# 方法3：从numpy数组创建\n",
    "e = np.ones(2)  # [1, 1]\n",
    "f = torch.from_numpy(e)\n",
    "print(f)"
   ]
  },
  {
   "cell_type": "code",
   "execution_count": 23,
   "id": "9b4a7caa",
   "metadata": {
    "tags": [
     "dim，shape，size的辨析"
    ]
   },
   "outputs": [
    {
     "name": "stdout",
     "output_type": "stream",
     "text": [
      "tensor([[1., 2., 3., 4.],\n",
      "        [1., 2., 3., 4.],\n",
      "        [1., 2., 3., 4.]])\n",
      "torch.Size([3, 4])\n",
      "torch.Size([3, 4])\n",
      "tensor([ 3.,  6.,  9., 12.])\n",
      "tensor([10., 10., 10.])\n"
     ]
    }
   ],
   "source": [
    "# shape size是一个概念，返回数据的形状\n",
    "# dim指的是shape size的长度\n",
    "\n",
    "x= torch.Tensor( [ [1,2,3,4],[1,2,3,4],[1,2,3,4]])\n",
    "print(x)\n",
    "print(x.shape)\n",
    "print(x.size())\n",
    "\n",
    "sum1 = torch.sum(x, dim=0)\n",
    "print(sum1)\n",
    "\n",
    "sum2 = torch.sum(x, dim=1)\n",
    "print(sum2)"
   ]
  },
  {
   "cell_type": "code",
   "execution_count": 24,
   "id": "f52b1991",
   "metadata": {
    "tags": [
     "dim=2的张量"
    ]
   },
   "outputs": [
    {
     "name": "stdout",
     "output_type": "stream",
     "text": [
      "tensor([[ 0.0048,  0.7965, -0.4765],\n",
      "        [-0.5280,  0.4223,  0.9691]])\n",
      "torch.Size([2, 3])\n",
      "torch.Size([2, 3])\n",
      "2\n",
      "3\n",
      "2\n",
      "3\n"
     ]
    }
   ],
   "source": [
    "# 类似于二维数组，一般第一个参数表示行，第二个参数表示列\n",
    "# 常用于带batch的线性输入，比如（minist一批一批的输入网络计算，输入数据的shape=(batch, 784)）\n",
    "\n",
    "a = torch.randn(2, 3)  # 随即正态分布初始化，均值=0，方差=1\n",
    "print(a)\n",
    "print(a.shape)\n",
    "print(a.size())\n",
    "print(a.size(0))\n",
    "print(a.size(1))\n",
    "print(a.shape[0])\n",
    "print(a.shape[1])"
   ]
  },
  {
   "cell_type": "code",
   "execution_count": 26,
   "id": "dbc70376",
   "metadata": {
    "tags": [
     "dim=3的张量"
    ]
   },
   "outputs": [
    {
     "name": "stdout",
     "output_type": "stream",
     "text": [
      "tensor([[[0.1425, 0.9534, 0.1651],\n",
      "         [0.6553, 0.7189, 0.0076]],\n",
      "\n",
      "        [[0.3406, 0.2090, 0.9067],\n",
      "         [0.9484, 0.6963, 0.2683]]])\n",
      "torch.Size([2, 2, 3])\n",
      "tensor([[0.1425, 0.9534, 0.1651],\n",
      "        [0.6553, 0.7189, 0.0076]])\n",
      "[2, 2, 3]\n"
     ]
    }
   ],
   "source": [
    "# 适用于RNN（例如NLP）中的输入，一个batch有好几个句子，每个句子有若干个单词，每个词语的编码为一个向量。\n",
    "\n",
    "a = torch.rand(2, 2, 3)\n",
    "print(a)\n",
    "print(a.shape)\n",
    "print(a[0])\n",
    "\n",
    "print(list(a.shape))  # 使用list方法可以将torch.Size转换为list"
   ]
  },
  {
   "cell_type": "code",
   "execution_count": 27,
   "id": "33e94325",
   "metadata": {
    "tags": [
     "dim=4的张量"
    ]
   },
   "outputs": [
    {
     "name": "stdout",
     "output_type": "stream",
     "text": [
      "tensor([[[[0.9312, 0.0136, 0.0178,  ..., 0.3117, 0.5709, 0.1713],\n",
      "          [0.0254, 0.7644, 0.6051,  ..., 0.1637, 0.6827, 0.4928],\n",
      "          [0.9121, 0.8322, 0.8782,  ..., 0.9809, 0.9352, 0.1766],\n",
      "          ...,\n",
      "          [0.9871, 0.5341, 0.9182,  ..., 0.9506, 0.5569, 0.0556],\n",
      "          [0.5847, 0.3473, 0.0256,  ..., 0.3853, 0.6773, 0.8035],\n",
      "          [0.5686, 0.6361, 0.1629,  ..., 0.1164, 0.2339, 0.7150]],\n",
      "\n",
      "         [[0.7199, 0.6216, 0.9653,  ..., 0.9709, 0.6763, 0.6786],\n",
      "          [0.6555, 0.1207, 0.3858,  ..., 0.7324, 0.2564, 0.2742],\n",
      "          [0.9040, 0.2827, 0.1330,  ..., 0.1081, 0.1331, 0.9218],\n",
      "          ...,\n",
      "          [0.1757, 0.0150, 0.0302,  ..., 0.5074, 0.3985, 0.1627],\n",
      "          [0.3826, 0.0591, 0.1541,  ..., 0.8584, 0.0321, 0.2121],\n",
      "          [0.4710, 0.0416, 0.9362,  ..., 0.5718, 0.3223, 0.4632]],\n",
      "\n",
      "         [[0.2044, 0.5810, 0.1560,  ..., 0.9827, 0.4054, 0.5388],\n",
      "          [0.2784, 0.6796, 0.0178,  ..., 0.9461, 0.7456, 0.3379],\n",
      "          [0.1303, 0.4869, 0.4616,  ..., 0.2308, 0.2662, 0.0518],\n",
      "          ...,\n",
      "          [0.6711, 0.0788, 0.3950,  ..., 0.3432, 0.5604, 0.7611],\n",
      "          [0.1884, 0.2800, 0.6049,  ..., 0.1877, 0.7168, 0.0283],\n",
      "          [0.6400, 0.7799, 0.6792,  ..., 0.6486, 0.5330, 0.4322]]],\n",
      "\n",
      "\n",
      "        [[[0.0648, 0.7384, 0.7577,  ..., 0.0168, 0.0163, 0.3472],\n",
      "          [0.2013, 0.0555, 0.3413,  ..., 0.5885, 0.0539, 0.0824],\n",
      "          [0.7247, 0.9168, 0.9887,  ..., 0.2472, 0.6415, 0.3022],\n",
      "          ...,\n",
      "          [0.5671, 0.4882, 0.0450,  ..., 0.1104, 0.7144, 0.7019],\n",
      "          [0.5113, 0.0400, 0.9740,  ..., 0.8041, 0.7874, 0.1867],\n",
      "          [0.4189, 0.3219, 0.1312,  ..., 0.8018, 0.7441, 0.9439]],\n",
      "\n",
      "         [[0.3316, 0.1144, 0.2627,  ..., 0.2831, 0.5745, 0.6913],\n",
      "          [0.2673, 0.9319, 0.7029,  ..., 0.8786, 0.1339, 0.4455],\n",
      "          [0.4474, 0.0376, 0.4860,  ..., 0.1861, 0.1400, 0.3448],\n",
      "          ...,\n",
      "          [0.1563, 0.0746, 0.8065,  ..., 0.2824, 0.5139, 0.0274],\n",
      "          [0.6398, 0.6613, 0.7656,  ..., 0.3287, 0.8095, 0.7406],\n",
      "          [0.7819, 0.0070, 0.1541,  ..., 0.2839, 0.3180, 0.3879]],\n",
      "\n",
      "         [[0.7270, 0.6902, 0.9935,  ..., 0.5665, 0.9430, 0.5040],\n",
      "          [0.1842, 0.3033, 0.2401,  ..., 0.2773, 0.5747, 0.0012],\n",
      "          [0.1976, 0.8145, 0.8422,  ..., 0.4688, 0.2901, 0.3774],\n",
      "          ...,\n",
      "          [0.1143, 0.1181, 0.6912,  ..., 0.0272, 0.1664, 0.9850],\n",
      "          [0.6252, 0.9377, 0.1490,  ..., 0.3655, 0.6499, 0.5362],\n",
      "          [0.8773, 0.8642, 0.1440,  ..., 0.7146, 0.6792, 0.4282]]]])\n",
      "torch.Size([2, 3, 28, 28])\n"
     ]
    }
   ],
   "source": [
    "# 适用于图片数据，每一维度的含义可为[b, c, h, w]，分别表示batch、channels、高、宽，卷积神经网络\n",
    "\n",
    "a = torch.rand(2, 3, 28, 28)\n",
    "print(a)\n",
    "print(a.shape)"
   ]
  },
  {
   "cell_type": "code",
   "execution_count": 28,
   "id": "f0630e55",
   "metadata": {
    "tags": [
     "补充知识"
    ]
   },
   "outputs": [
    {
     "name": "stdout",
     "output_type": "stream",
     "text": [
      "torch.Size([2, 3, 28, 28])\n",
      "torch.Size([2, 3, 28, 28])\n",
      "4704\n",
      "4\n"
     ]
    }
   ],
   "source": [
    "a = torch.rand(2, 3, 28, 28)\n",
    "print(a.shape)\n",
    "print(a.size())  # shape size()返回的是张量的形状\n",
    "\n",
    "print(a.numel())  # 返回张量占用的内存空间大小，指的是数据的个数\n",
    "\n",
    "print(a.dim())  # 返回数据的维度，维度形式上可以理解为方括号的个数"
   ]
  },
  {
   "cell_type": "code",
   "execution_count": null,
   "id": "f2506fa0",
   "metadata": {},
   "outputs": [],
   "source": []
  }
 ],
 "metadata": {
  "celltoolbar": "Tags",
  "kernelspec": {
   "display_name": "learning_pgpu",
   "language": "python",
   "name": "learning_pgpu"
  },
  "language_info": {
   "codemirror_mode": {
    "name": "ipython",
    "version": 3
   },
   "file_extension": ".py",
   "mimetype": "text/x-python",
   "name": "python",
   "nbconvert_exporter": "python",
   "pygments_lexer": "ipython3",
   "version": "3.8.15"
  }
 },
 "nbformat": 4,
 "nbformat_minor": 5
}
