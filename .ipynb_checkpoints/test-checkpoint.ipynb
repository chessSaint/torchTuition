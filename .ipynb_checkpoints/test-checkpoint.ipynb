{
 "cells": [
  {
   "cell_type": "code",
   "execution_count": 7,
   "id": "434079ca",
   "metadata": {},
   "outputs": [],
   "source": [
    "# 神经网络的隐层的激活函数可为Relu、softmax、sigmoid等，最后一层根据任务可选softmax、sigmoid等\n",
    "import torch\n",
    "from torch import nn\n",
    "from torch.nn import functional as F\n",
    "from torch import optim\n",
    "\n",
    "import torchvision\n",
    "from matplotlib import pyplot as plt"
   ]
  },
  {
   "cell_type": "code",
   "execution_count": 5,
   "id": "bdcccd3d",
   "metadata": {},
   "outputs": [
    {
     "data": {
      "image/png": "[encoded data removed]",
      "text/plain": [
       "<Figure size 640x480 with 6 Axes>"
      ]
     },
     "metadata": {},
     "output_type": "display_data"
    }
   ],
   "source": [
    "def plot_curve(data):\n",
    "    fig = plt.figure()\n",
    "    plt.plot(range(len(data)), data, color='blue')\n",
    "    plt.legend(['value'], loc='upper right')\n",
    "    plt.xlabel('step')\n",
    "    plt.ylabel('value')\n",
    "    plt.show()\n",
    "\n",
    "def plot_image(img, label, name):\n",
    "    fig = plt.figure()\n",
    "    for i in range(6):\n",
    "        plt.subplot(2, 3, i + 1)\n",
    "        plt.tight_layout()\n",
    "        plt.imshow(img[i][0] * 0.3081 + 0.1307, cmap='gray', interpolation='none')\n",
    "        plt.title('{}: {}'.format(name, label[i].item()))\n",
    "        plt.xticks([])\n",
    "        plt.yticks([])\n",
    "    plt.show()\n",
    "\n",
    "def one_hot(label, depth=10):\n",
    "    out = torch.zeros(label.size(0), depth)\n",
    "    idx = torch.LongTensor(label).view(-1, 1)\n",
    "    out.scatter_(dim=1, index=idx, value=1)\n",
    "    return out\n",
    "\n",
    "batch_size = 512\n",
    "\n",
    "# step1: load dataset\n",
    "train_loader = torch.utils.data.DataLoader(\n",
    "    torchvision.datasets.MNIST('mnist_data', train=True, download=True, \n",
    "                               transform=torchvision.transforms.Compose([\n",
    "                                   torchvision.transforms.ToTensor(),\n",
    "                                   torchvision.transforms.Normalize((0.1307,), (0.3081,))\n",
    "                               ])), batch_size=batch_size, shuffle=True)\n",
    "\n",
    "test_loader = torch.utils.data.DataLoader(\n",
    "    torchvision.datasets.MNIST('mnist_data/', train=False, download=True, \n",
    "                               transform=torchvision.transforms.Compose([\n",
    "                                   torchvision.transforms.ToTensor(),\n",
    "                                   torchvision.transforms.Normalize((0.1307,), (0.3081,))\n",
    "                               ])), batch_size=batch_size, shuffle=True)\n",
    "\n",
    "\n",
    "class Net(nn.Module):\n",
    "    def __init__(self):\n",
    "        super(Net, self).__init__()\n",
    "        \n",
    "        self.fc1 = nn.Linear(28 * 28, 256)\n",
    "        self.fc2 = nn.Linear(256, 64)\n",
    "        self.fc3 = nn.Linear(64, 10)\n",
    "        \n",
    "    def forward(self, x ):\n",
    "        # x: [b, 1, 28, 28]\n",
    "        # h1 = relu(x*w1 + b1)\n",
    "        x = F.relu(self.fc1(x))\n",
    "        \n",
    "        # h2 = relu(h1 * w2 + b2)\n",
    "        x = F.relu(self.fc2(x))\n",
    "        \n",
    "        # h3 = relu(h3 * w3 + b3)\n",
    "        x = self.fc3(x)\n",
    "        \n",
    "        return x\n",
    "    \n",
    "    \n",
    "net = Net()\n",
    "\n",
    "net.load_state_dict(torch.load('./3-epoch.pth'))\n",
    "\n",
    "x, y = next(iter(test_loader))\n",
    "out = net(x.view(x.size(0), 28 * 28))\n",
    "pred = out.argmax(dim=1)\n",
    "plot_image(x, pred, 'test')"
   ]
  },
  {
   "cell_type": "code",
   "execution_count": 14,
   "id": "4bb75bba",
   "metadata": {},
   "outputs": [
    {
     "name": "stdout",
     "output_type": "stream",
     "text": [
      "tensor([[[1.0853e+19, 4.5862e-41],\n",
      "         [4.8058e-36, 0.0000e+00],\n",
      "         [6.7301e-37, 0.0000e+00],\n",
      "         [1.0853e+19, 4.5862e-41]],\n",
      "\n",
      "        [[0.0000e+00, 4.1001e+00],\n",
      "         [1.5453e-07, 3.9162e+00],\n",
      "         [       nan,        nan],\n",
      "         [6.8664e-44, 0.0000e+00]]])\n",
      "tensor([[0, 0, 0, 0],\n",
      "        [0, 0, 0, 0]])\n"
     ]
    }
   ],
   "source": [
    "a = torch."
   ]
  },
  {
   "cell_type": "code",
   "execution_count": 16,
   "id": "4c8da9a7",
   "metadata": {
    "scrolled": false
   },
   "outputs": [
    {
     "data": {
      "text/plain": [
       "{'/m/07rwj00': '0',\n",
       " '/m/07rwj01': '1',\n",
       " '/m/07rwj02': '2',\n",
       " '/m/07rwj03': '3',\n",
       " '/m/07rwj04': '4',\n",
       " '/m/07rwj05': '5',\n",
       " '/m/07rwj06': '6',\n",
       " '/m/07rwj07': '7',\n",
       " '/m/07rwj08': '8',\n",
       " '/m/07rwj09': '9',\n",
       " '/m/07rwj10': '10',\n",
       " '/m/07rwj11': '11',\n",
       " '/m/07rwj12': '12',\n",
       " '/m/07rwj13': '13',\n",
       " '/m/07rwj14': '14',\n",
       " '/m/07rwj15': '15',\n",
       " '/m/07rwj16': '16',\n",
       " '/m/07rwj17': '17',\n",
       " '/m/07rwj18': '18',\n",
       " '/m/07rwj19': '19',\n",
       " '/m/07rwj20': '20',\n",
       " '/m/07rwj21': '21',\n",
       " '/m/07rwj22': '22',\n",
       " '/m/07rwj23': '23',\n",
       " '/m/07rwj24': '24',\n",
       " '/m/07rwj25': '25',\n",
       " '/m/07rwj26': '26',\n",
       " '/m/07rwj27': '27',\n",
       " '/m/07rwj28': '28',\n",
       " '/m/07rwj29': '29',\n",
       " '/m/07rwj30': '30',\n",
       " '/m/07rwj31': '31',\n",
       " '/m/07rwj32': '32',\n",
       " '/m/07rwj33': '33',\n",
       " '/m/07rwj34': '34',\n",
       " '/m/07rwj35': '35',\n",
       " '/m/07rwj36': '36',\n",
       " '/m/07rwj37': '37',\n",
       " '/m/07rwj38': '38',\n",
       " '/m/07rwj39': '39',\n",
       " '/m/07rwj40': '40',\n",
       " '/m/07rwj41': '41',\n",
       " '/m/07rwj42': '42',\n",
       " '/m/07rwj43': '43',\n",
       " '/m/07rwj44': '44',\n",
       " '/m/07rwj45': '45',\n",
       " '/m/07rwj46': '46',\n",
       " '/m/07rwj47': '47',\n",
       " '/m/07rwj48': '48',\n",
       " '/m/07rwj49': '49'}"
      ]
     },
     "execution_count": 16,
     "metadata": {},
     "output_type": "execute_result"
    }
   ],
   "source": [
    "import csv\n",
    "\n",
    "def make_index_dict(label_csv):\n",
    "    index_lookup = {}\n",
    "    with open(label_csv, 'r') as f:\n",
    "        csv_reader = csv.DictReader(f)\n",
    "        line_count = 0\n",
    "        for row in csv_reader:\n",
    "            index_lookup[row['mid']] = row['index']\n",
    "            line_count += 1\n",
    "    return index_lookup\n",
    "\n",
    "make_index_dict('esc_class_labels_indices.csv')"
   ]
  },
  {
   "cell_type": "code",
   "execution_count": 17,
   "id": "984845a7",
   "metadata": {},
   "outputs": [
    {
     "data": {
      "text/plain": [
       "{'0': 'dog',\n",
       " '1': 'rooster',\n",
       " '2': 'pig',\n",
       " '3': 'cow',\n",
       " '4': 'frog',\n",
       " '5': 'cat',\n",
       " '6': 'hen',\n",
       " '7': 'insects',\n",
       " '8': 'sheep',\n",
       " '9': 'crow',\n",
       " '10': 'rain',\n",
       " '11': 'sea_waves',\n",
       " '12': 'crackling_fire',\n",
       " '13': 'crickets',\n",
       " '14': 'chirping_birds',\n",
       " '15': 'water_drops',\n",
       " '16': 'wind',\n",
       " '17': 'pouring_water',\n",
       " '18': 'toilet_flush',\n",
       " '19': 'thunderstorm',\n",
       " '20': 'crying_baby',\n",
       " '21': 'sneezing',\n",
       " '22': 'clapping',\n",
       " '23': 'breathing',\n",
       " '24': 'coughing',\n",
       " '25': 'footsteps',\n",
       " '26': 'laughing',\n",
       " '27': 'brushing_teeth',\n",
       " '28': 'snoring',\n",
       " '29': 'drinking_sipping',\n",
       " '30': 'door_wood_knock',\n",
       " '31': 'mouse_click',\n",
       " '32': 'keyboard_typing',\n",
       " '33': 'door_wood_creaks',\n",
       " '34': 'can_opening',\n",
       " '35': 'washing_machine',\n",
       " '36': 'vacuum_cleaner',\n",
       " '37': 'clock_alarm',\n",
       " '38': 'clock_tick',\n",
       " '39': 'glass_breaking',\n",
       " '40': 'helicopter',\n",
       " '41': 'chainsaw',\n",
       " '42': 'siren',\n",
       " '43': 'car_horn',\n",
       " '44': 'engine',\n",
       " '45': 'train',\n",
       " '46': 'church_bells',\n",
       " '47': 'airplane',\n",
       " '48': 'fireworks',\n",
       " '49': 'hand_saw'}"
      ]
     },
     "execution_count": 17,
     "metadata": {},
     "output_type": "execute_result"
    }
   ],
   "source": [
    "import csv\n",
    "\n",
    "def make_name_dict(label_csv):\n",
    "    name_lookup = {}\n",
    "    with open(label_csv, 'r') as f:\n",
    "        csv_reader = csv.DictReader(f)\n",
    "        line_count = 0\n",
    "        for row in csv_reader:\n",
    "            name_lookup[row['index']] = row['display_name']\n",
    "            line_count += 1\n",
    "    return name_lookup\n",
    "\n",
    "make_name_dict('esc_class_labels_indices.csv')"
   ]
  },
  {
   "cell_type": "code",
   "execution_count": null,
   "id": "9d90f584",
   "metadata": {},
   "outputs": [],
   "source": []
  }
 ],
 "metadata": {
  "kernelspec": {
   "display_name": "learning_pgpu",
   "language": "python",
   "name": "learning_pgpu"
  },
  "language_info": {
   "codemirror_mode": {
    "name": "ipython",
    "version": 3
   },
   "file_extension": ".py",
   "mimetype": "text/x-python",
   "name": "python",
   "nbconvert_exporter": "python",
   "pygments_lexer": "ipython3",
   "version": "3.8.15"
  }
 },
 "nbformat": 4,
 "nbformat_minor": 5
}
